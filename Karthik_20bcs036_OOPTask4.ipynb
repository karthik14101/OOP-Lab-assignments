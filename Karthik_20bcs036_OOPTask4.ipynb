{
  "nbformat": 4,
  "nbformat_minor": 0,
  "metadata": {
    "colab": {
      "name": "Karthik_20bcs036_OOPTask4.ipynb",
      "provenance": [],
      "authorship_tag": "ABX9TyPDAT4qGtIgs3wgBk/XL2TI",
      "include_colab_link": true
    },
    "kernelspec": {
      "name": "python3",
      "display_name": "Python 3"
    },
    "language_info": {
      "name": "python"
    }
  },
  "cells": [
    {
      "cell_type": "markdown",
      "metadata": {
        "id": "view-in-github",
        "colab_type": "text"
      },
      "source": [
        "<a href=\"https://colab.research.google.com/github/karthik14101/OOP-Lab-assignments/blob/main/Karthik_20bcs036_OOPTask4.ipynb\" target=\"_parent\"><img src=\"https://colab.research.google.com/assets/colab-badge.svg\" alt=\"Open In Colab\"/></a>"
      ]
    },
    {
      "cell_type": "code",
      "metadata": {
        "colab": {
          "base_uri": "https://localhost:8080/"
        },
        "id": "2HKZf5PmLB9N",
        "outputId": "07c13dee-e83f-48a3-bd5b-16c6dcdc34db"
      },
      "source": [
        "\n",
        "class Node:\n",
        "\t\n",
        "\t\n",
        "\tdef __init__(self,data):\n",
        "\t\tself.data = data\n",
        "\t\tself.next = None\n",
        "\t\n",
        "class Stack:\n",
        "\t\n",
        "\t\n",
        "\tdef __init__(self):\n",
        "\t\tself.head = None\n",
        "\t\n",
        "\t\n",
        "\tdef isempty(self):\n",
        "\t\tif self.head == None:\n",
        "\t\t\treturn True\n",
        "\t\telse:\n",
        "\t\t\treturn False\n",
        "\t\n",
        "\t\n",
        "\tdef push(self,data):\n",
        "\t\t\n",
        "\t\tif self.head == None:\n",
        "\t\t\tself.head=Node(data)\n",
        "\t\t\t\n",
        "\t\telse:\n",
        "\t\t\tnewnode = Node(data)\n",
        "\t\t\tnewnode.next = self.head\n",
        "\t\t\tself.head = newnode\n",
        "\t\n",
        "\t\n",
        "\tdef pop(self):\n",
        "\t\t\n",
        "\t\tif self.isempty():\n",
        "\t\t\treturn None\n",
        "\t\t\t\n",
        "\t\telse:\n",
        "\t\t\t\n",
        "\t\t\tpoppednode = self.head\n",
        "\t\t\tself.head = self.head.next\n",
        "\t\t\tpoppednode.next = None\n",
        "\t\t\treturn poppednode.data\n",
        "\t\n",
        "\t\n",
        "\tdef peek(self):\n",
        "\t\t\n",
        "\t\tif self.isempty():\n",
        "\t\t\treturn None\n",
        "\t\t\t\n",
        "\t\telse:\n",
        "\t\t\treturn self.head.data\n",
        "\t\n",
        "\t\n",
        "\tdef display(self):\n",
        "\t\t\n",
        "\t\titernode = self.head\n",
        "\t\tif self.isempty():\n",
        "\t\t\tprint(\"Stack Underflow\")\n",
        "\t\t\n",
        "\t\telse:\n",
        "\t\t\t\n",
        "\t\t\twhile(iternode != None):\n",
        "\t\t\t\t\n",
        "\t\t\t\tprint(iternode.data,\"->\",end = \" \")\n",
        "\t\t\t\titernode = iternode.next\n",
        "\t\t\treturn\n",
        "\t\t\n",
        "\n",
        "MyStack = Stack()\n",
        "\n",
        "MyStack.push(26)\n",
        "MyStack.push(56)\n",
        "MyStack.push(67)\n",
        "MyStack.push(89)\n",
        "MyStack.push(100)\n",
        "MyStack.push(124)\n",
        "\n",
        "\n",
        "MyStack.display()\n",
        "\n",
        "\n",
        "print(\"\\nTop element is \",MyStack.peek())\n",
        "\n",
        "\n",
        "MyStack.pop()\n",
        "MyStack.pop()\n",
        "MyStack.pop()\n",
        "\n",
        "\n",
        "MyStack.display()\n",
        "\n",
        "\n",
        "print(\"\\nTop element is \", MyStack.peek())"
      ],
      "execution_count": 7,
      "outputs": [
        {
          "output_type": "stream",
          "name": "stdout",
          "text": [
            "124 -> 100 -> 89 -> 67 -> 56 -> 26 -> \n",
            "Top element is  124\n",
            "67 -> 56 -> 26 -> \n",
            "Top element is  67\n"
          ]
        }
      ]
    },
    {
      "cell_type": "code",
      "metadata": {
        "colab": {
          "base_uri": "https://localhost:8080/"
        },
        "id": "AcMm75mJNH91",
        "outputId": "9438f35a-b710-44fc-d35d-484b870fc3da"
      },
      "source": [
        "class Rectangle():\n",
        "    def __init__(self, l, w):\n",
        "        self.length = l\n",
        "        self.width  = w\n",
        "\n",
        "    def rectangle_area(self):\n",
        "        return self.length*self.width\n",
        "\n",
        "newRectangle = Rectangle(11, 13)\n",
        "print(\"Area of a rectangle is\",newRectangle.rectangle_area(),\"sq units\")"
      ],
      "execution_count": 11,
      "outputs": [
        {
          "output_type": "stream",
          "name": "stdout",
          "text": [
            "Area of a rectangle is 143 sq units\n"
          ]
        }
      ]
    },
    {
      "cell_type": "code",
      "metadata": {
        "colab": {
          "base_uri": "https://localhost:8080/"
        },
        "id": "1cJ5Qhi3N1RB",
        "outputId": "759a101a-eb52-482b-bacc-250b154f33ee"
      },
      "source": [
        "class Queue:\n",
        "\n",
        "    def __init__(self):\n",
        "        self.queue = []\n",
        "\n",
        "   \n",
        "    def enqueue(self, item):\n",
        "        self.queue.append(item)\n",
        "\n",
        "   \n",
        "    def dequeue(self):\n",
        "        if len(self.queue) < 1:\n",
        "            return None\n",
        "        return self.queue.pop(0)\n",
        "\n",
        "   \n",
        "    def display(self):\n",
        "        print(self.queue)\n",
        "\n",
        "    def size(self):\n",
        "        return len(self.queue)\n",
        "\n",
        "\n",
        "q = Queue()\n",
        "q.enqueue(12)\n",
        "q.enqueue(19)\n",
        "q.enqueue(23)\n",
        "q.enqueue(29)\n",
        "q.enqueue(33)\n",
        "\n",
        "q.display()\n",
        "\n",
        "q.dequeue()\n",
        "\n",
        "print(\"After removing an element\")\n",
        "q.display()"
      ],
      "execution_count": 15,
      "outputs": [
        {
          "output_type": "stream",
          "name": "stdout",
          "text": [
            "[12, 19, 23, 29, 33]\n",
            "After removing an element\n",
            "[19, 23, 29, 33]\n"
          ]
        }
      ]
    },
    {
      "cell_type": "code",
      "metadata": {
        "id": "1CSkv8bNN8D3"
      },
      "source": [
        ""
      ],
      "execution_count": null,
      "outputs": []
    }
  ]
}