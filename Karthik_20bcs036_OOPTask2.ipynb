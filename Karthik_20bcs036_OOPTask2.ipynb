{
  "nbformat": 4,
  "nbformat_minor": 0,
  "metadata": {
    "colab": {
      "name": "Chippagiri Karthik_20bcs036_OOPTask2",
      "provenance": [],
      "authorship_tag": "ABX9TyN1R1EyuIDFwceAqFK+PYbU",
      "include_colab_link": true
    },
    "kernelspec": {
      "name": "python3",
      "display_name": "Python 3"
    },
    "language_info": {
      "name": "python"
    }
  },
  "cells": [
    {
      "cell_type": "markdown",
      "metadata": {
        "id": "view-in-github",
        "colab_type": "text"
      },
      "source": [
        "<a href=\"https://colab.research.google.com/github/karthik14101/OOPs-Lab-assignments/blob/main/Chippagiri_Karthik_20bcs036_OOPTask2.ipynb\" target=\"_parent\"><img src=\"https://colab.research.google.com/assets/colab-badge.svg\" alt=\"Open In Colab\"/></a>"
      ]
    },
    {
      "cell_type": "code",
      "metadata": {
        "colab": {
          "base_uri": "https://localhost:8080/"
        },
        "id": "d0R1zrDJui7a",
        "outputId": "d95c37c8-6632-45d0-fc5e-6f6e7629ee6b"
      },
      "source": [
        "class circle:\n",
        "  def __init__(self,radius):\n",
        "    self.radius=radius\n",
        "    self.cond = 1 if self.radius>=0 else 0\n",
        "\n",
        "  def area(self):\n",
        "    if self.cond!=0:\n",
        "      return 3.14*radius*radius\n",
        "    else:\n",
        "      return \"invalid\"\n",
        "  \n",
        "  def perimeter(self):\n",
        "    if self.cond!=0:\n",
        "      return 2*3.14*self.radius\n",
        "    else:\n",
        "      return \"Invalid\"\n",
        "\n",
        "\n",
        "  radius=float(input(\"Enter the radius of circle:\"))\n",
        "  circle1 = circle(radius)\n",
        "  print(\"Area of circle:\",circle1.area())\n",
        "  print(\"Circumference of circle:\",circle1.perimeter())\n"
      ],
      "execution_count": null,
      "outputs": [
        {
          "output_type": "stream",
          "name": "stdout",
          "text": [
            "Enter the radius of circle:5\n",
            "Area of circle: 113.03999999999999\n",
            "Circumference of circle: 31.400000000000002\n"
          ]
        }
      ]
    },
    {
      "cell_type": "code",
      "metadata": {
        "colab": {
          "base_uri": "https://localhost:8080/"
        },
        "id": "HU_Fw5mmx5ry",
        "outputId": "57b838d2-8e1c-465e-c7ff-cea1043c1627"
      },
      "source": [
        "class teacher:\n",
        "  def __init__(self,name,empid,branch,sal):\n",
        "    self.name=name\n",
        "    self.empid=empid\n",
        "    self.branch=branch\n",
        "    self.sal=sal\n",
        " \n",
        "  def view_details(self):\n",
        "    print(\"employee id    :\",self.empid.upper())\n",
        "    print(\"Employee name  :\",self.name.capitalize())\n",
        "    print(\"Employee Branch:\",self.branch)\n",
        "    print(\"Employee Salary:\",self.sal)\n",
        "  \n",
        "def take_details():\n",
        "  detail=input(\"enter the employee details with a ',' to seperate them(name,id,branch,salary)\")\n",
        "  details=detail.split(',')\n",
        "  details[3]==int(details[3])\n",
        "  return teacher(details[0],details[1],details[2],details[3])\n",
        "\n",
        "teachers=[];\n",
        "for i in range(5):\n",
        "  k=take_details()\n",
        "  teachers.append(k)\n",
        "for i in range(5):\n",
        "  print(\"\\nemployee\",i,\"details:\")\n",
        "  teachers[i].view_details()\n",
        "  print(\"\\n\")"
      ],
      "execution_count": null,
      "outputs": [
        {
          "output_type": "stream",
          "name": "stdout",
          "text": [
            "enter the employee details with a ',' to seperate them(name,id,branch,salary)Raviteja,2628,CSE,50000\n",
            "enter the employee details with a ',' to seperate them(name,id,branch,salary)Rakesh,2698,ECE,80000\n",
            "enter the employee details with a ',' to seperate them(name,id,branch,salary)Mahesh,2643,CSE,60000\n",
            "enter the employee details with a ',' to seperate them(name,id,branch,salary)Mahadhan,2578,EEE,70000\n",
            "enter the employee details with a ',' to seperate them(name,id,branch,salary)Padma,2357,ECE,90000\n",
            "\n",
            "employee 0 details:\n",
            "employee id    : 2628\n",
            "Employee name  : Raviteja\n",
            "Employee Branch: CSE\n",
            "Employee Salary: 50000\n",
            "\n",
            "\n",
            "\n",
            "employee 1 details:\n",
            "employee id    : 2698\n",
            "Employee name  : Rakesh\n",
            "Employee Branch: ECE\n",
            "Employee Salary: 80000\n",
            "\n",
            "\n",
            "\n",
            "employee 2 details:\n",
            "employee id    : 2643\n",
            "Employee name  : Mahesh\n",
            "Employee Branch: CSE\n",
            "Employee Salary: 60000\n",
            "\n",
            "\n",
            "\n",
            "employee 3 details:\n",
            "employee id    : 2578\n",
            "Employee name  : Mahadhan\n",
            "Employee Branch: EEE\n",
            "Employee Salary: 70000\n",
            "\n",
            "\n",
            "\n",
            "employee 4 details:\n",
            "employee id    : 2357\n",
            "Employee name  : Padma\n",
            "Employee Branch: ECE\n",
            "Employee Salary: 90000\n",
            "\n",
            "\n"
          ]
        }
      ]
    },
    {
      "cell_type": "code",
      "metadata": {
        "colab": {
          "base_uri": "https://localhost:8080/"
        },
        "id": "Y1jFOrrOyAgR",
        "outputId": "fe468942-a043-4460-8303-e62815040ede"
      },
      "source": [
        "class bank:\n",
        "  def __init__(self,accNo,name):\n",
        "    self.accNo=accNo\n",
        "    self.name=name\n",
        "    self.amt=80000\n",
        "    self.depAmt=0\n",
        "    self.witAmt=0 \n",
        "  \n",
        "  def deposit(self):\n",
        "    self.depAmt=float(input(\"enter the amount ot deposit:\"))\n",
        "    self.amt += self.depAmt\n",
        "    return self.amt,self.depAmt\n",
        "  \n",
        "  def withdraw(self):\n",
        "    self.witAmt=float(input(\"Enter the amount to withdraw:\"))\n",
        "    if self.amt-self.witAmt>100:\n",
        "      self.amt-=self.witAmt\n",
        "      return self.amt,self.witAmt\n",
        "    else:\n",
        "      return \"requested amount cant be given due to low balance\"\n",
        "  \n",
        "  def checkBalance(self):\n",
        "    return self.amt\n",
        "  \n",
        "  def dispAccDetails(self):\n",
        "    accDetails=[self.accNo,self.name,self.amt,self.depAmt,self.witAmt]\n",
        "    print(f'\\nAccount number:{accDetails[0]}\\naccount holder name:{accDetails[1]}\\namount:{accDetails[2]}\\nlast debit:{accDetails[3]}\\nlast credit:{accDetails[4]}\\n')\n",
        "\n",
        "def take_details(bankers):\n",
        "  detail=input(\"Enter your detais with a ',' to seperate them(Acc No,Name)\")\n",
        "  details=detail.split(',')\n",
        "  bankers[details[0]]=details[1]\n",
        "  return bank(details[0],details[1])\n",
        "\n",
        "def userchoice(obj):\n",
        "  i=1\n",
        "  while i<6 and i>0:\n",
        "    i=int(input(\"\\nEnter Your Choice:\\t1.Deposit\\t2.Withdraw\\t3.Check balance\\t4.Display details\\t5.Quit\\t:\"))\n",
        "    if i==1:\n",
        "      k=obj.deposit()\n",
        "      print(f'\\nMoney deposited:{k[1]}.\\nBalance:{k[0]}')\n",
        "    elif i==2:\n",
        "      k=obj.withdraw()\n",
        "      if type(k[0])==float:\n",
        "        print(f'\\nMoney withdrawn:{k[1]}.\\nBalance:{k[0]}')\n",
        "      else:\n",
        "        print(k)\n",
        "    elif i==3:\n",
        "      print(\"\\nBank Balance:\",obj.checkBalance())\n",
        "    elif i==4:\n",
        "      obj.dispAccDetails()\n",
        "    elif i==5:\n",
        "      break \n",
        "    else:\n",
        "      print(\"Wrong choice.\\nProgram Terminated\")\n",
        "      break\n",
        "\n",
        "bankers={}\n",
        "banker1=take_details(bankers)\n",
        "userchoice(banker1)\n",
        "print(bankers)"
      ],
      "execution_count": null,
      "outputs": [
        {
          "output_type": "stream",
          "name": "stdout",
          "text": [
            "Enter your detais with a ',' to seperate them(Acc No,Name)1934038030,Karthik\n",
            "\n",
            "Enter Your Choice:\t1.Deposit\t2.Withdraw\t3.Check balance\t4.Display details\t5.Quit\t:2\n",
            "Enter the amount to withdraw:50000\n",
            "\n",
            "Money withdrawn:50000.0.\n",
            "Balance:30000.0\n",
            "\n",
            "Enter Your Choice:\t1.Deposit\t2.Withdraw\t3.Check balance\t4.Display details\t5.Quit\t:5\n",
            "{'1934038030': 'Karthik'}\n"
          ]
        }
      ]
    },
    {
      "cell_type": "code",
      "metadata": {
        "colab": {
          "base_uri": "https://localhost:8080/"
        },
        "id": "fDDXHY75yQjQ",
        "outputId": "27bf7342-4aad-4197-ef2e-65d8e468cd05"
      },
      "source": [
        "class student:\n",
        "  def __init__(self,name,rollno,*marks):\n",
        "    self.name=name.capitalize()\n",
        "    self.rollno=rollno\n",
        "    self.marks=marks\n",
        "  \n",
        "  def showdetails(self):\n",
        "    total=0\n",
        "    for i in self.marks:\n",
        "      i=float(i)\n",
        "      total+=i\n",
        "    print(f'NAME       :{self.name}\\nROLLNO     :{self.rollno}\\nphy marks  :{self.marks[0]}\\nmaths marks:{self.marks[1]}\\nchem marks :{self.marks[2]}\\nTotal      :{total}')\n",
        "\n",
        "def take_details():\n",
        "  detail=input(\"Enter the student details(name,rollno,phymarks,matmarks,chemmarks)\").split(',')\n",
        "  return student(detail[0],detail[1],detail[2],detail[3],detail[4])\n",
        "\n",
        "mark_list={}\n",
        "students=[]\n",
        "\n",
        "for i in range(3):\n",
        "  k=take_details()  \n",
        "  students.append(k)\n",
        "  mark_list[k.name]=k.marks\n",
        "print(\"\\nStudent details:\\n\")\n",
        "\n",
        "for i in range(3):\n",
        "  print(\"Student\",i+1,\"details:\")\n",
        "  students[i].showdetails()\n",
        "  print(\"\\n\")\n",
        "\n",
        "print(mark_list)"
      ],
      "execution_count": null,
      "outputs": [
        {
          "output_type": "stream",
          "name": "stdout",
          "text": [
            "Enter the student details(name,rollno,phymarks,matmarks,chemmarks)Karthik,740,90,94,98\n",
            "Enter the student details(name,rollno,phymarks,matmarks,chemmarks)Raviteja,780,80,89,95\n",
            "Enter the student details(name,rollno,phymarks,matmarks,chemmarks)Raju,790,70,78,90\n",
            "\n",
            "Student details:\n",
            "\n",
            "Student 1 details:\n",
            "NAME       :Karthik\n",
            "ROLLNO     :740\n",
            "phy marks  :90\n",
            "maths marks:94\n",
            "chem marks :98\n",
            "Total      :282.0\n",
            "\n",
            "\n",
            "Student 2 details:\n",
            "NAME       :Raviteja\n",
            "ROLLNO     :780\n",
            "phy marks  :80\n",
            "maths marks:89\n",
            "chem marks :95\n",
            "Total      :264.0\n",
            "\n",
            "\n",
            "Student 3 details:\n",
            "NAME       :Raju\n",
            "ROLLNO     :790\n",
            "phy marks  :70\n",
            "maths marks:78\n",
            "chem marks :90\n",
            "Total      :238.0\n",
            "\n",
            "\n",
            "{'Karthik': ('90', '94', '98'), 'Raviteja': ('80', '89', '95'), 'Raju': ('70', '78', '90')}\n"
          ]
        }
      ]
    },
    {
      "cell_type": "code",
      "metadata": {
        "colab": {
          "base_uri": "https://localhost:8080/"
        },
        "id": "ELU3rIU1yR_M",
        "outputId": "5feacf2c-82ab-474e-8b89-7d70101696fe"
      },
      "source": [
        "class hospital:\n",
        "  c1 , c2 = 0 , 0\n",
        "  def __init__(self,name):\n",
        "    self.name = name\n",
        "    list_of_symptoms = []\n",
        "    date_of_admission = input(\"Enter the date of admission :\")\n",
        "    n = int(input(\"Enter the  number of symptoms : \"))\n",
        "    for i in range(0,n):\n",
        "      symptom = input()\n",
        "      list_of_symptoms.append(symptom)\n",
        "    oxygen_level = input(\"Enter oxygen level : \")\n",
        "    if oxygen_level < \"90\":\n",
        "      print(\"Oxygen mask is required\")\n",
        "      hospital.c1 = hospital.c1 + 1\n",
        "    else:\n",
        "      print(\"Normal observation\")\n",
        "      hospital.c2 = hospital.c2 + 1\n",
        "  def display(self):\n",
        "    print(\"Number of patients who need oxygen support : \" ,hospital.c1)\n",
        "    print(\"Number of patients in observation : \" ,hospital.c2)\n",
        "    print(\"Total number of patients : \",hospital.c1+hospital.c2)\n",
        "\n",
        "a1 = hospital(\"Global hospital\")\n",
        "a2 = hospital(\"Raviteja hospital\")\n",
        "a3 = hospital(\"Saveera hospital\")\n",
        "a4 = hospital(\"Narayana hospital\")\n",
        "a1.display()"
      ],
      "execution_count": null,
      "outputs": [
        {
          "output_type": "stream",
          "name": "stdout",
          "text": [
            "Enter the date of admission :13-09-2021\n",
            "Enter the  number of symptoms : 3\n",
            "Cold\n",
            "Fever\n",
            "Vomitings\n",
            "Enter oxygen level : 95\n",
            "Normal observation\n",
            "Enter the date of admission :14-09-2021\n",
            "Enter the  number of symptoms : 2\n",
            "Loose motions\n",
            "Fever\n",
            "Enter oxygen level : 86\n",
            "Oxygen mask is required\n",
            "Enter the date of admission :12-09-2021\n",
            "Enter the  number of symptoms : 1\n",
            "Fever\n",
            "Enter oxygen level : 98\n",
            "Normal observation\n",
            "Enter the date of admission :16-09-2021\n",
            "Enter the  number of symptoms : 2\n",
            "Fever\n",
            "Motions\n",
            "Enter oxygen level : 80\n",
            "Oxygen mask is required\n",
            "Number of patients who need oxygen support :  2\n",
            "Number of patients in observation :  2\n",
            "Total number of patients :  4\n"
          ]
        }
      ]
    },
    {
      "cell_type": "code",
      "metadata": {
        "colab": {
          "base_uri": "https://localhost:8080/"
        },
        "id": "NnqMtPsUyauN",
        "outputId": "74abe291-6ab2-47c6-9fa9-643354c1f73c"
      },
      "source": [
        "class time:\n",
        "  def __init__(self):\n",
        "    self.seconds,self.hours,self.minutes=0,0,0\n",
        "  \n",
        "  def __init__(self,seconds,minutes,hours):\n",
        "    self.seconds=seconds\n",
        "    self.minutes=minutes\n",
        "    self.hours=hours\n",
        "\n",
        "  def display(self):\n",
        "    print(f'Given time:{self.hours}:{self.minutes}:{self.seconds}')\n",
        "\n",
        "k=input(\"Enter the time(hh:mm:ss)\").split(\":\")\n",
        "m=[int(x) for x in k]\n",
        "obj1=time(m[2],m[1],m[0])\n",
        "obj1.display()"
      ],
      "execution_count": null,
      "outputs": [
        {
          "output_type": "stream",
          "name": "stdout",
          "text": [
            "Enter the time(hh:mm:ss)09:30:13\n",
            "Given time:9:30:13\n"
          ]
        }
      ]
    },
    {
      "cell_type": "code",
      "metadata": {
        "colab": {
          "base_uri": "https://localhost:8080/"
        },
        "id": "B9DFmayPyh9Q",
        "outputId": "ed4573fe-7564-4b30-b818-90a79e314daf"
      },
      "source": [
        "class student:\n",
        "  def __init__(self,name,rollno,age):\n",
        "    self.name=name\n",
        "    self.age=age\n",
        "    self.rollno=rollno\n",
        "  \n",
        "  def compare(self,s2):\n",
        "    if self.age==s2.age:\n",
        "      return True\n",
        "    return False\n",
        "\n",
        "def takedetails():\n",
        "  k=input(\"Enter the student details(name,rollno,age)\").split(',')\n",
        "  return student(k[0],k[1],k[2])\n",
        "\n",
        "\n",
        "for i in range(1):\n",
        "  std1=takedetails()\n",
        "  std2=takedetails()\n",
        "  k=std1.compare(std2)\n",
        "  if k==True:\n",
        "    print('Both are Equal')  \n",
        "  else:\n",
        "    print('Ages are not equal')\n"
      ],
      "execution_count": null,
      "outputs": [
        {
          "output_type": "stream",
          "name": "stdout",
          "text": [
            "Enter the student details(name,rollno,age)Karthik,123,19\n",
            "Enter the student details(name,rollno,age)Raviteja,134,18\n",
            "Ages are not equal\n"
          ]
        }
      ]
    },
    {
      "cell_type": "code",
      "metadata": {
        "colab": {
          "base_uri": "https://localhost:8080/"
        },
        "id": "t7wpXVInynEK",
        "outputId": "92a9add6-0f7e-4bd7-babe-09c115a787ff"
      },
      "source": [
        "class student:\n",
        "  institute='IIIT Dharwad'\n",
        "  sem = 3\n",
        "  def __init__(self,name,usn):\n",
        "    self.name=name\n",
        "    self.usn=usn\n",
        "  \n",
        "  def showinstance(self):\n",
        "    print(f'student name:{self.name}\\nRoll No:{self.usn}')\n",
        "\n",
        "  @classmethod\n",
        "  def showclsvar(cls):\n",
        "    print(f'Sem:{student.sem}\\nInstitute{student.institute}')\n",
        "  \n",
        "k=student(\"Karthik\",36)\n",
        "k.showinstance()\n",
        "k.showclsvar()"
      ],
      "execution_count": null,
      "outputs": [
        {
          "output_type": "stream",
          "name": "stdout",
          "text": [
            "student name:Karthik\n",
            "Roll No:36\n",
            "Sem:3\n",
            "InstituteIIIT Dharwad\n"
          ]
        }
      ]
    },
    {
      "cell_type": "code",
      "metadata": {
        "colab": {
          "base_uri": "https://localhost:8080/"
        },
        "id": "EZM0__vDyr0A",
        "outputId": "3e115769-a391-4286-e6e5-53ed1c88e83d"
      },
      "source": [
        "class student:\n",
        "  def __init__(self,name,rollno,sem):\n",
        "    self.name=name\n",
        "    self.rollno,self.sem=rollno,sem\n",
        "  class laptop:                                                                                               \n",
        "    def __init__(self):\n",
        "      self.cpu='0'\n",
        "      self.ram=0\n",
        "      self.storage=''\n",
        "      self.company=''\n",
        "      self.gpu=''\n",
        "    def specs(self):\n",
        "      spec_list=input(\"Enter laptop specification(company,cpu,ram,hdd+ssd,gpu)\").split(\",\")\n",
        "      self.cpu=spec_list[1]\n",
        "      self.ram=int(spec_list[2])\n",
        "      self.storage=spec_list[3]\n",
        "      self.company=spec_list[0]\n",
        "      self.gpu=spec_list[4]\n",
        "    def displap(self):\n",
        "      print(f\"Company{self.company}\\nCPU:{self.cpu}\\nGPU:{self.gpu}\\nRAM:{self.ram}gb\\nSTORAGE:{self.storage}\")\n",
        "\n",
        "  def dispstd(self):\n",
        "    print(\"\\nSTUDENT DETAILS:\")\n",
        "    print(\"student name  :\",self.name)\n",
        "    print(\"student rollno:\",self.rollno)\n",
        "    print(\"student sem   :\",self.sem)\n",
        "  \n",
        "def addlap(obj):\n",
        "  a=int(input(\"Enter your choice:\\n1:add laptop\\t2:quit-->\"))\n",
        "  laptops=[]\n",
        "  while a==1:\n",
        "    k=obj.laptop()\n",
        "    k.specs()\n",
        "    laptops.append(k)\n",
        "    a=int(input(\"Enter your choice:\\n1:add laptop\\t2:quit-->\"))\n",
        "  return laptops\n",
        "\n",
        "def display(laptops):\n",
        "  print(\"\\nstudent laptops' specifications:\")\n",
        "  t=1\n",
        "  for i in laptops:\n",
        "    print(\"\\nLaptop\",t,\"details:\")\n",
        "    i.displap()\n",
        "    t+=1\n",
        "\n",
        "k1=input(\"Enter STUDENT DETAILS(name,rollno,sem)\").split(',')\n",
        "std1=student(k1[0],k1[1],k1[2])\n",
        "laptops=addlap(std1)\n",
        "std1.dispstd()\n",
        "display(laptops)"
      ],
      "execution_count": null,
      "outputs": [
        {
          "output_type": "stream",
          "name": "stdout",
          "text": [
            "Enter STUDENT DETAILS(name,rollno,sem)Karthik,36,3\n",
            "Enter your choice:\n",
            "1:add laptop\t2:quit-->1\n",
            "Enter laptop specification(company,cpu,ram,hdd+ssd,gpu)INTEL,i3,8,1,ABC\n",
            "Enter your choice:\n",
            "1:add laptop\t2:quit-->2\n",
            "\n",
            "STUDENT DETAILS:\n",
            "student name  : Karthik\n",
            "student rollno: 36\n",
            "student sem   : 3\n",
            "\n",
            "student laptops' specifications:\n",
            "\n",
            "Laptop 1 details:\n",
            "CompanyINTEL\n",
            "CPU:i3\n",
            "GPU:ABC\n",
            "RAM:8gb\n",
            "STORAGE:1\n"
          ]
        }
      ]
    }
  ]
}
