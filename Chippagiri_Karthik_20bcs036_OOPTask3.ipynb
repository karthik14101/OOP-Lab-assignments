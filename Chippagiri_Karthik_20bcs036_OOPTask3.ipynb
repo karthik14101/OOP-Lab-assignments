{
  "nbformat": 4,
  "nbformat_minor": 0,
  "metadata": {
    "colab": {
      "name": "Chippagiri Karthik_20bcs036_OOPTask3",
      "provenance": [],
      "collapsed_sections": [],
      "authorship_tag": "ABX9TyOzdd0+peeJFabelLQxNRAM",
      "include_colab_link": true
    },
    "kernelspec": {
      "name": "python3",
      "display_name": "Python 3"
    },
    "language_info": {
      "name": "python"
    }
  },
  "cells": [
    {
      "cell_type": "markdown",
      "metadata": {
        "id": "view-in-github",
        "colab_type": "text"
      },
      "source": [
        "<a href=\"https://colab.research.google.com/github/karthik14101/OOPs-Lab-assignments/blob/main/Chippagiri_Karthik_20bcs036_OOPTask3.ipynb\" target=\"_parent\"><img src=\"https://colab.research.google.com/assets/colab-badge.svg\" alt=\"Open In Colab\"/></a>"
      ]
    },
    {
      "cell_type": "code",
      "metadata": {
        "colab": {
          "base_uri": "https://localhost:8080/"
        },
        "id": "4jo7sUHyLcdB",
        "outputId": "f3867424-a4ac-46bd-b5d1-0609af72d1b2"
      },
      "source": [
        "class Student:\n",
        "  def data(self):\n",
        "    self.name = str(input(\"Enter student's name :\"))\n",
        "    self.regNo = (input(\"Enter registration number :\"))\n",
        "    self.age = int(input(\"Enter student's age :\"))\n",
        "    self.gender = str(input(\"Enter student's gender :\"))\n",
        "    self.branch = str(input(\"Enter student's branch :\"))\n",
        "    self.semester = int(input(\"Enter semester :\"))\n",
        "\n",
        "  def display(self):\n",
        "    print(f\"\\n Name: {self.name}\\n Reg. no: {(self.regNo)}\\n Age: {(self.age)}\\n Gender:{self.gender}\\n Branch: {self.branch}\\n Semester: {self.semester}\")\n",
        "\n",
        "class StudentResultInfo(Student):\n",
        "  def __init__(self, totalMarks, percentage, grade):\n",
        "    self.totalMarks = totalMarks\n",
        "    self.percentage = percentage\n",
        "    self.grade = grade\n",
        "\n",
        "  def displayData(self):\n",
        "    self.display()\n",
        "    print(f\"\\n Final result of a student in sem 3 \\n\\n Total marks: {(self.totalMarks)}\\n Percentage: {(self.percentage)} % Grade: {self.grade}\")\n",
        "\n",
        "std1 = StudentResultInfo(1000, 80, 'B+')\n",
        "std1.data()\n",
        "std1.display()\n",
        "std1.displayData()"
      ],
      "execution_count": null,
      "outputs": [
        {
          "output_type": "stream",
          "name": "stdout",
          "text": [
            "Enter student's name :Chippagiri Karthik\n",
            "Enter registration number :20bcs036\n",
            "Enter student's age :19\n",
            "Enter student's gender :Male\n",
            "Enter student's branch :CSE\n",
            "Enter semester :3\n",
            "\n",
            " Name: Chippagiri Karthik\n",
            " Reg. no: 20bcs036\n",
            " Age: 19\n",
            " Gender:Male\n",
            " Branch: CSE\n",
            " Semester: 3\n",
            "\n",
            " Name: Chippagiri Karthik\n",
            " Reg. no: 20bcs036\n",
            " Age: 19\n",
            " Gender:Male\n",
            " Branch: CSE\n",
            " Semester: 3\n",
            "\n",
            " Final result of a student in sem 3 \n",
            "\n",
            " Total marks: 1000\n",
            " Percentage: 80 % Grade: B+\n"
          ]
        }
      ]
    },
    {
      "cell_type": "code",
      "metadata": {
        "colab": {
          "base_uri": "https://localhost:8080/"
        },
        "id": "VwdA-Hi8Pxpg",
        "outputId": "d0fabec0-e58d-4c21-c7a4-4053be296d16"
      },
      "source": [
        "class document:\n",
        "  def _init_(self,creator,discription,size):\n",
        "    self.creator = creator\n",
        "    self.discription = discription\n",
        "    self.size = size\n",
        "    self.threshold = 100\n",
        "  def check(self):\n",
        "    if self.size > self.threshold:\n",
        "      print(\"The size of the file is above the threshold size\")\n",
        "      return False\n",
        "    else:\n",
        "      print(\"Yes,the file is accepted\")\n",
        "      return True\n",
        "  def display(self):\n",
        "    print(\"Creator of file is \",self.creator)\n",
        "    print(\"Description of file is \",self.discription)\n",
        "    print(\"Size of file is \",self.size)\n",
        "\n",
        "class pdf(document):\n",
        "  def __init__(self,creator,discription,size):\n",
        "    document._init_(self,creator,discription,size)\n",
        "\n",
        "class picture(document):\n",
        "  def __init__(self,creator,discription,dimension,size):\n",
        "    document._init_(self,creator,discription,size)\n",
        "    self.dimension = dimension\n",
        "  def check_dim(self):\n",
        "    if k == True:\n",
        "      if self.dimension > 6237:\n",
        "        print(\"HD Picture quality\")\n",
        "      else:\n",
        "        print(\"yes,the picture is accepted\")\n",
        "    else:\n",
        "      print(\"The file is not accepted because of its size\")\n",
        "\n",
        "p = pdf(\"Raviteja\",\"Filmography\",136)\n",
        "p.check()\n",
        "p.display()\n",
        "print(\"\\n\")\n",
        "pic = picture(\"Mahesh\",\"FilmfareAwards\",5000,2)\n",
        "k = pic.check()\n",
        "pic.display()\n",
        "pic.check_dim()"
      ],
      "execution_count": null,
      "outputs": [
        {
          "output_type": "stream",
          "name": "stdout",
          "text": [
            "The size of the file is above the threshold size\n",
            "Creator of file is  Raviteja\n",
            "Description of file is  Filmography\n",
            "Size of file is  136\n",
            "\n",
            "\n",
            "Yes,the file is accepted\n",
            "Creator of file is  Mahesh\n",
            "Description of file is  FilmfareAwards\n",
            "Size of file is  2\n",
            "yes,the picture is accepted\n"
          ]
        }
      ]
    },
    {
      "cell_type": "code",
      "metadata": {
        "colab": {
          "base_uri": "https://localhost:8080/"
        },
        "id": "2AQ8_Co5PycV",
        "outputId": "2393fdc8-3d6a-42ad-b3b5-4233dd821ea9"
      },
      "source": [
        "class Vehicle:\n",
        "    def __init__(self, name, mileage, capacity):\n",
        "        self.name = name\n",
        "        self.mileage = mileage\n",
        "        self.capacity = capacity\n",
        "\n",
        "    def fare(self):\n",
        "        return self.capacity * 100\n",
        "\n",
        "class Bus(Vehicle):\n",
        "    \n",
        "    def fare(self):\n",
        "        fare_bus = self.capacity * 100 \n",
        "        total_fare = fare_bus + (0.1 *fare_bus)\n",
        "        return total_fare\n",
        "\n",
        "School_bus = Bus(\"APRTC bus\", 12, 50)\n",
        "print(\"Total Bus fare Of the APRTC bus is:\", School_bus.fare())"
      ],
      "execution_count": null,
      "outputs": [
        {
          "output_type": "stream",
          "name": "stdout",
          "text": [
            "Total Bus fare Of the APRTC bus is: 5500.0\n"
          ]
        }
      ]
    }
  ]
}